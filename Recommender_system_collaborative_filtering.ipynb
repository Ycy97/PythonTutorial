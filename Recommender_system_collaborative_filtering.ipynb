{
  "cells": [
    {
      "cell_type": "markdown",
      "metadata": {
        "colab_type": "text",
        "id": "view-in-github"
      },
      "source": [
        "<a href=\"https://colab.research.google.com/github/Ycy97/PythonTutorial/blob/main/Recommender_system_collaborative_filtering.ipynb\" target=\"_parent\"><img src=\"https://colab.research.google.com/assets/colab-badge.svg\" alt=\"Open In Colab\"/></a>"
      ]
    },
    {
      "cell_type": "code",
      "execution_count": 9,
      "metadata": {},
      "outputs": [
        {
          "name": "stderr",
          "output_type": "stream",
          "text": [
            "  % Total    % Received % Xferd  Average Speed   Time    Time     Time  Current\n",
            "                                 Dload  Upload   Total   Spent    Left  Speed\n",
            "\n",
            "  0     0    0     0    0     0      0      0 --:--:-- --:--:-- --:--:--     0\n",
            "  1  955k    1 17003    0     0  21785      0  0:00:44 --:--:--  0:00:44 21798\n",
            " 16  955k   16  160k    0     0    99k      0  0:00:09  0:00:01  0:00:08   99k\n",
            " 42  955k   42  406k    0     0   152k      0  0:00:06  0:00:02  0:00:04  152k\n",
            " 67  955k   67  645k    0     0   180k      0  0:00:05  0:00:03  0:00:02  180k\n",
            " 93  955k   93  895k    0     0   194k      0  0:00:04  0:00:04 --:--:--  194k\n",
            "100  955k  100  955k    0     0   196k      0  0:00:04  0:00:04 --:--:--  230k\n"
          ]
        }
      ],
      "source": [
        "! curl http://files.grouplens.org/datasets/movielens/ml-latest-small.zip -o ml-latest-small.zip"
      ]
    },
    {
      "cell_type": "markdown",
      "metadata": {
        "id": "3KRWJuw4b-Ox"
      },
      "source": [
        "Recommendation System : Collaborative System + Matrix Factorization & Kmeans"
      ]
    },
    {
      "cell_type": "code",
      "execution_count": 10,
      "metadata": {
        "id": "byze4mzscETh"
      },
      "outputs": [],
      "source": [
        "import zipfile\n",
        "with zipfile.ZipFile('ml-latest-small.zip','r') as zip_ref:\n",
        "  zip_ref.extractall('data')"
      ]
    },
    {
      "cell_type": "code",
      "execution_count": 11,
      "metadata": {
        "id": "xTwoZBiIcq_j"
      },
      "outputs": [],
      "source": [
        "#import the dataset\n",
        "import pandas as pd\n",
        "\n",
        "movies_df = pd.read_csv('data/ml-latest-small/movies.csv')\n",
        "ratings_df = pd.read_csv('data/ml-latest-small/ratings.csv')"
      ]
    },
    {
      "cell_type": "code",
      "execution_count": 12,
      "metadata": {
        "colab": {
          "base_uri": "https://localhost:8080/"
        },
        "id": "YhDE46RDdGIi",
        "outputId": "5f9bff77-f69c-4e53-ad44-5da6bb8e7caf"
      },
      "outputs": [
        {
          "name": "stdout",
          "output_type": "stream",
          "text": [
            "The dimensions of movie dataframe are : (9742, 3) \n",
            "The dimensions of ratings dataframe are: (100836, 4)\n"
          ]
        }
      ],
      "source": [
        "print('The dimensions of movie dataframe are :', movies_df.shape, '\\nThe dimensions of ratings dataframe are:', ratings_df.shape)"
      ]
    },
    {
      "cell_type": "code",
      "execution_count": 13,
      "metadata": {
        "colab": {
          "base_uri": "https://localhost:8080/",
          "height": 206
        },
        "id": "lkWVfO33dWei",
        "outputId": "687bdd33-5aa5-43d1-c772-5cd0dc1613bb"
      },
      "outputs": [
        {
          "data": {
            "text/html": [
              "<div>\n",
              "<style scoped>\n",
              "    .dataframe tbody tr th:only-of-type {\n",
              "        vertical-align: middle;\n",
              "    }\n",
              "\n",
              "    .dataframe tbody tr th {\n",
              "        vertical-align: top;\n",
              "    }\n",
              "\n",
              "    .dataframe thead th {\n",
              "        text-align: right;\n",
              "    }\n",
              "</style>\n",
              "<table border=\"1\" class=\"dataframe\">\n",
              "  <thead>\n",
              "    <tr style=\"text-align: right;\">\n",
              "      <th></th>\n",
              "      <th>movieId</th>\n",
              "      <th>title</th>\n",
              "      <th>genres</th>\n",
              "    </tr>\n",
              "  </thead>\n",
              "  <tbody>\n",
              "    <tr>\n",
              "      <th>0</th>\n",
              "      <td>1</td>\n",
              "      <td>Toy Story (1995)</td>\n",
              "      <td>Adventure|Animation|Children|Comedy|Fantasy</td>\n",
              "    </tr>\n",
              "    <tr>\n",
              "      <th>1</th>\n",
              "      <td>2</td>\n",
              "      <td>Jumanji (1995)</td>\n",
              "      <td>Adventure|Children|Fantasy</td>\n",
              "    </tr>\n",
              "    <tr>\n",
              "      <th>2</th>\n",
              "      <td>3</td>\n",
              "      <td>Grumpier Old Men (1995)</td>\n",
              "      <td>Comedy|Romance</td>\n",
              "    </tr>\n",
              "    <tr>\n",
              "      <th>3</th>\n",
              "      <td>4</td>\n",
              "      <td>Waiting to Exhale (1995)</td>\n",
              "      <td>Comedy|Drama|Romance</td>\n",
              "    </tr>\n",
              "    <tr>\n",
              "      <th>4</th>\n",
              "      <td>5</td>\n",
              "      <td>Father of the Bride Part II (1995)</td>\n",
              "      <td>Comedy</td>\n",
              "    </tr>\n",
              "  </tbody>\n",
              "</table>\n",
              "</div>"
            ],
            "text/plain": [
              "   movieId                               title  \\\n",
              "0        1                    Toy Story (1995)   \n",
              "1        2                      Jumanji (1995)   \n",
              "2        3             Grumpier Old Men (1995)   \n",
              "3        4            Waiting to Exhale (1995)   \n",
              "4        5  Father of the Bride Part II (1995)   \n",
              "\n",
              "                                        genres  \n",
              "0  Adventure|Animation|Children|Comedy|Fantasy  \n",
              "1                   Adventure|Children|Fantasy  \n",
              "2                               Comedy|Romance  \n",
              "3                         Comedy|Drama|Romance  \n",
              "4                                       Comedy  "
            ]
          },
          "execution_count": 13,
          "metadata": {},
          "output_type": "execute_result"
        }
      ],
      "source": [
        "#Take a look at movies_df\n",
        "movies_df.head()"
      ]
    },
    {
      "cell_type": "code",
      "execution_count": 14,
      "metadata": {
        "colab": {
          "base_uri": "https://localhost:8080/",
          "height": 206
        },
        "id": "JtbZgalNdqDi",
        "outputId": "a58d932a-4c09-4a23-fb3d-dc52349e4d10"
      },
      "outputs": [
        {
          "data": {
            "text/html": [
              "<div>\n",
              "<style scoped>\n",
              "    .dataframe tbody tr th:only-of-type {\n",
              "        vertical-align: middle;\n",
              "    }\n",
              "\n",
              "    .dataframe tbody tr th {\n",
              "        vertical-align: top;\n",
              "    }\n",
              "\n",
              "    .dataframe thead th {\n",
              "        text-align: right;\n",
              "    }\n",
              "</style>\n",
              "<table border=\"1\" class=\"dataframe\">\n",
              "  <thead>\n",
              "    <tr style=\"text-align: right;\">\n",
              "      <th></th>\n",
              "      <th>userId</th>\n",
              "      <th>movieId</th>\n",
              "      <th>rating</th>\n",
              "      <th>timestamp</th>\n",
              "    </tr>\n",
              "  </thead>\n",
              "  <tbody>\n",
              "    <tr>\n",
              "      <th>0</th>\n",
              "      <td>1</td>\n",
              "      <td>1</td>\n",
              "      <td>4.0</td>\n",
              "      <td>964982703</td>\n",
              "    </tr>\n",
              "    <tr>\n",
              "      <th>1</th>\n",
              "      <td>1</td>\n",
              "      <td>3</td>\n",
              "      <td>4.0</td>\n",
              "      <td>964981247</td>\n",
              "    </tr>\n",
              "    <tr>\n",
              "      <th>2</th>\n",
              "      <td>1</td>\n",
              "      <td>6</td>\n",
              "      <td>4.0</td>\n",
              "      <td>964982224</td>\n",
              "    </tr>\n",
              "    <tr>\n",
              "      <th>3</th>\n",
              "      <td>1</td>\n",
              "      <td>47</td>\n",
              "      <td>5.0</td>\n",
              "      <td>964983815</td>\n",
              "    </tr>\n",
              "    <tr>\n",
              "      <th>4</th>\n",
              "      <td>1</td>\n",
              "      <td>50</td>\n",
              "      <td>5.0</td>\n",
              "      <td>964982931</td>\n",
              "    </tr>\n",
              "  </tbody>\n",
              "</table>\n",
              "</div>"
            ],
            "text/plain": [
              "   userId  movieId  rating  timestamp\n",
              "0       1        1     4.0  964982703\n",
              "1       1        3     4.0  964981247\n",
              "2       1        6     4.0  964982224\n",
              "3       1       47     5.0  964983815\n",
              "4       1       50     5.0  964982931"
            ]
          },
          "execution_count": 14,
          "metadata": {},
          "output_type": "execute_result"
        }
      ],
      "source": [
        "#Take a look at ratings_df\n",
        "ratings_df.head()"
      ]
    },
    {
      "cell_type": "code",
      "execution_count": 15,
      "metadata": {
        "colab": {
          "base_uri": "https://localhost:8080/"
        },
        "id": "TNJnkYkteVhS",
        "outputId": "b76e0a51-abae-474d-8dce-ada64d9e46f6"
      },
      "outputs": [
        {
          "name": "stdout",
          "output_type": "stream",
          "text": [
            "Number of unique users : 610\n",
            "Number of unique movies:  9724\n",
            "The full rating matrix will have: 5931640 elements.\n",
            "--------------------------------------------------------------\n",
            "Number of ratings: 100836\n",
            "Therefore: 1.6999683055613624 % of the matrix is filled.\n",
            "We have an incredibly sparse matrix to work with here.\n",
            "And...as you can imagine, as the number of users and product grow, the number of elements will increase by n*2\n",
            "You are going to need a lot of memory to work with global scale ... storing a full matrix in memory would be a challenge.\n",
            "One advantage here is that matrix factorization can realize the rating matrix implicitly, thus we dont need all the data.\n"
          ]
        }
      ],
      "source": [
        "#Movie ID to movie name mapping\n",
        "movie_names = movies_df.set_index('movieId')['title'].to_dict()\n",
        "#print(movie_names)\n",
        "n_users = len(ratings_df.userId.unique())\n",
        "n_items = len(ratings_df.movieId.unique())\n",
        "print(\"Number of unique users :\", n_users)\n",
        "print(\"Number of unique movies: \", n_items)\n",
        "print(\"The full rating matrix will have:\", n_users*n_items,\"elements.\")\n",
        "print(\"--------------------------------------------------------------\")\n",
        "print(\"Number of ratings:\",len(ratings_df))\n",
        "print(\"Therefore:\", len(ratings_df)/(n_users*n_items) * 100, '% of the matrix is filled.')\n",
        "print(\"We have an incredibly sparse matrix to work with here.\")\n",
        "print(\"And...as you can imagine, as the number of users and product grow, the number of elements will increase by n*2\")\n",
        "print(\"You are going to need a lot of memory to work with global scale ... storing a full matrix in memory would be a challenge.\")\n",
        "print(\"One advantage here is that matrix factorization can realize the rating matrix implicitly, thus we dont need all the data.\")"
      ]
    },
    {
      "cell_type": "code",
      "execution_count": 16,
      "metadata": {
        "id": "hVVlpASTj7qd"
      },
      "outputs": [
        {
          "ename": "ModuleNotFoundError",
          "evalue": "No module named 'torch'",
          "output_type": "error",
          "traceback": [
            "\u001b[1;31m---------------------------------------------------------------------------\u001b[0m",
            "\u001b[1;31mModuleNotFoundError\u001b[0m                       Traceback (most recent call last)",
            "\u001b[1;32md:\\PythonTutorial\\Recommender_system_collaborative_filtering.ipynb Cell 10\u001b[0m in \u001b[0;36m<cell line: 1>\u001b[1;34m()\u001b[0m\n\u001b[1;32m----> <a href='vscode-notebook-cell:/d%3A/PythonTutorial/Recommender_system_collaborative_filtering.ipynb#X12sZmlsZQ%3D%3D?line=0'>1</a>\u001b[0m \u001b[39mimport\u001b[39;00m \u001b[39mtorch\u001b[39;00m\n\u001b[0;32m      <a href='vscode-notebook-cell:/d%3A/PythonTutorial/Recommender_system_collaborative_filtering.ipynb#X12sZmlsZQ%3D%3D?line=1'>2</a>\u001b[0m \u001b[39mimport\u001b[39;00m \u001b[39mnumpy\u001b[39;00m \u001b[39mas\u001b[39;00m \u001b[39mnp\u001b[39;00m\n\u001b[0;32m      <a href='vscode-notebook-cell:/d%3A/PythonTutorial/Recommender_system_collaborative_filtering.ipynb#X12sZmlsZQ%3D%3D?line=2'>3</a>\u001b[0m \u001b[39mfrom\u001b[39;00m \u001b[39mtorch\u001b[39;00m\u001b[39m.\u001b[39;00m\u001b[39mautograd\u001b[39;00m \u001b[39mimport\u001b[39;00m Variable\n",
            "\u001b[1;31mModuleNotFoundError\u001b[0m: No module named 'torch'"
          ]
        }
      ],
      "source": [
        "import torch\n",
        "import numpy as np\n",
        "from torch.autograd import Variable\n",
        "from tqdm import tqdm_notebook as tqdm\n",
        "\n",
        "class MatrixFactorization(torch.nn.Module):\n",
        "  def __init__(self,n_users,n_items,n_factors=20):\n",
        "    super().__init__()\n",
        "    #create user embeddings\n",
        "    self.user_factors = torch.nn.Embedding(n_users,n_factors)# think of this as a lookup table for the input\n",
        "    #create item embeddings\n",
        "    self.item_factors = torch.nn.Embedding(n_items,n_factors)# think of this as a lookup table for the input\n",
        "    self.user_factors.weight.data.uniform_(0, 0.05)\n",
        "    self.item_factors.weight.data.uniform_(0, 0.05)\n",
        "  \n",
        "  def forward(self,data):\n",
        "    #matrix multiplication\n",
        "    users, items = data[:,0], data[:,1] #all data from column 0 and column 1\n",
        "    return (self.user_factors(users)*self.item_factors(items)).sum(1)\n",
        "  \n",
        "  def predict(self, user, item):\n",
        "    return self.forward(user,item)\n"
      ]
    },
    {
      "cell_type": "code",
      "execution_count": null,
      "metadata": {
        "id": "ny1F2rnInxqO"
      },
      "outputs": [],
      "source": [
        "#Creating the dataloader (necessary for PyTorch)\n",
        "from torch.utils.data.dataset import Dataset\n",
        "from torch.utils.data import DataLoader # package that helps transform your data to machine learning readiness\n",
        "\n",
        "#Note : This isnt \"good\" practice, in a MLops sense but we'll roll with this since the data is already loaded in memory, should be ratings_df in real application for parameter\n",
        "class Loader(Dataset):\n",
        "  def __init__(self):\n",
        "    self.ratings = ratings_df.copy()\n",
        "\n",
        "    #Extract all user IDs and movie IDs\n",
        "    users = ratings_df.userId.unique()\n",
        "    movies = ratings_df.movieId.unique()\n",
        "\n",
        "    #--- Producing new continuous IDs for users and movies ---\n",
        "\n",
        "    #Unique values : index\n",
        "    self.userid2idx = {o:i for i,o in enumerate(users)}\n",
        "    self.movieid2idx = {o:i for i,o in enumerate(movies)}\n",
        "\n",
        "    #Obtained continuous ID for users and movies\n",
        "    self.idx2userid = {i:o for o,i in self.userid2idx.items()}\n",
        "    self.idx2movieid = {i:o for o,i in self.movieid2idx.items()}\n",
        "\n",
        "    #return the id from the indexed values as noted in the lambda function down below\n",
        "    self.ratings.movieId = ratings_df.movieId.apply(lambda x: self.movieid2idx[x])\n",
        "    self.ratings.userId = ratings_df.userId.apply(lambda x: self.userid2idx[x])\n",
        "\n",
        "    self.x = self.ratings.drop(['rating','timestamp'],axis=1).values\n",
        "    self.y = self.ratings['rating'].values\n",
        "    self.x, self.y = torch.tensor(self.x), torch.tensor(self.y) #Transforms the data to tensors (ready for torch models.)\n",
        "  \n",
        "  def __getitem__(self,index):\n",
        "    return (self.x[index], self.y[index])\n",
        "\n",
        "  def __len__(self):\n",
        "    return len(self.ratings)\n",
        "\n"
      ]
    },
    {
      "cell_type": "code",
      "execution_count": null,
      "metadata": {
        "colab": {
          "base_uri": "https://localhost:8080/"
        },
        "id": "T8vZbxc0rFlm",
        "outputId": "1d167e1c-9b56-4850-92e8-596f3fdeb111"
      },
      "outputs": [],
      "source": [
        "num_epochs = 128\n",
        "cuda = torch.cuda.is_available()\n",
        "\n",
        "print(\"Is running on GPU:\", cuda)\n",
        "\n",
        "model = MatrixFactorization(n_users, n_items, n_factors=8)\n",
        "print(model)\n",
        "for name, param in model.named_parameters():\n",
        "  if param.requires_grad:\n",
        "    print(name, param.data)\n",
        "\n",
        "#GPU enable if you have a GPU...\n",
        "if cuda:\n",
        "  model  = model.cuda()\n",
        "\n",
        "#MSE los\n",
        "loss_fn = torch.nn.MSELoss()\n",
        "\n",
        "#ADAM optimizer\n",
        "optimizer = torch.optim.Adam(model.parameters(), lr=1e-3)\n",
        "\n",
        "#Train data\n",
        "train_set = Loader()\n",
        "train_loader = DataLoader(train_set, 128, shuffle=True)\n"
      ]
    },
    {
      "cell_type": "code",
      "execution_count": null,
      "metadata": {
        "colab": {
          "base_uri": "https://localhost:8080/",
          "height": 1000,
          "referenced_widgets": [
            "320540fc801b40e4a3b6213ae18129a2",
            "436635d38ca147359a55f3bbc4880a75",
            "b82d92c791084ef4a398bc909d0b3360",
            "b25823ac36a34e1eaead7f79238ed268",
            "d25ca8c186204f12904419b9c0648261",
            "da1b146519b240d39b77cf82de29ec18",
            "7644dd375d39477b961fb48c5d9f66b9",
            "dbe8a01c15d7417cab795a9ab369c62a",
            "03b5b896f2534bec817b507d1af0953c",
            "fb4fbf961de7492b88e1b40f111b8314",
            "c75db7fcd49a4e98a030b6df1b24a57d"
          ]
        },
        "id": "JWKwTV_JsvtN",
        "outputId": "5ab8fa25-b000-43ec-9063-5dbe27863355"
      },
      "outputs": [],
      "source": [
        "for it in tqdm(range(num_epochs)):\n",
        "  losses = []\n",
        "  for x,y in train_loader:\n",
        "    if cuda:\n",
        "      x,y = x.cuda(), y.cuda()\n",
        "      optimizer.zero_grad()\n",
        "      outputs = model(x)\n",
        "      loss = loss_fn(outputs.squeeze(), y.type(torch.float32))\n",
        "      losses.append(loss.item())\n",
        "      loss.backward()\n",
        "      optimizer.step()\n",
        "  print(\"iter #{}\".format(it), \"Loss:\", sum(losses)/len(losses))"
      ]
    },
    {
      "cell_type": "code",
      "execution_count": null,
      "metadata": {
        "colab": {
          "base_uri": "https://localhost:8080/"
        },
        "id": "KF8nDPGQ2pfh",
        "outputId": "20d84ba1-51e0-4c35-a7fc-60c2070a1b0b"
      },
      "outputs": [],
      "source": [
        "#By training the model, we will have tuned latent factors for movies and users.\n",
        "c = 0\n",
        "uw = 0\n",
        "iw = 0\n",
        "for name, param in model.named_parameters():\n",
        "  if param.requires_grad:\n",
        "    print(name, param.data)\n",
        "    if c==0:\n",
        "      uw = param.data\n",
        "      c+=1\n",
        "    else:\n",
        "      i = param.data\n",
        "      "
      ]
    },
    {
      "cell_type": "code",
      "execution_count": null,
      "metadata": {
        "id": "0tdRpPnS3TFE"
      },
      "outputs": [],
      "source": [
        "trained_movie_embeddings = model.item_factors.weight.data.cpu().numpy()"
      ]
    },
    {
      "cell_type": "code",
      "execution_count": null,
      "metadata": {
        "colab": {
          "base_uri": "https://localhost:8080/"
        },
        "id": "Jke1w0GA3dCp",
        "outputId": "56fa29d5-dfe6-422c-b0e3-d47436b67ac4"
      },
      "outputs": [],
      "source": [
        "trained_movie_embeddings # unique movie factor weights"
      ]
    },
    {
      "cell_type": "code",
      "execution_count": null,
      "metadata": {
        "id": "EGU8GD_E3m-w"
      },
      "outputs": [],
      "source": [
        "from sklearn.cluster import KMeans\n",
        "#Fit the clusters based on the movie weights\n",
        "kmeans = KMeans(n_clusters=10, random_state=0).fit(trained_movie_embeddings)"
      ]
    },
    {
      "cell_type": "code",
      "execution_count": null,
      "metadata": {
        "colab": {
          "base_uri": "https://localhost:8080/"
        },
        "id": "OdNI-LM74Iqw",
        "outputId": "8f52972c-9425-4442-ee3d-e23609f4330e"
      },
      "outputs": [],
      "source": [
        "#it can be seen here that the movies that are in the same cluster tend to have similar genres. also note that the algorithm is unfamiliar with the movie\n",
        "#name and only obtained the relationships by looking at the numbers representing how users have responded to the movie selections\n",
        "\n",
        "for cluster in range(10):\n",
        "  print(\"Cluster #{}\".format(cluster))\n",
        "  movs = []\n",
        "  for movidx in np.where(kmeans.labels_ == cluster)[0]:\n",
        "    movid = train_set.idx2movieid[movidx]\n",
        "    rat_count = ratings_df.loc[ratings_df['movieId']==movid].count()[0]\n",
        "    movs.append((movie_names[movid],rat_count))\n",
        "  for mov in sorted(movs, key=lambda tup: tup[1], reverse=True)[:10]:\n",
        "    print(\"\\t\", mov[0])"
      ]
    }
  ],
  "metadata": {
    "accelerator": "GPU",
    "colab": {
      "authorship_tag": "ABX9TyNxO683yUUmTjS208ZBaGGH",
      "collapsed_sections": [],
      "include_colab_link": true,
      "name": "Recommender_system_collaborative_filtering.ipynb",
      "provenance": []
    },
    "gpuClass": "standard",
    "kernelspec": {
      "display_name": "Python 3.10.3 64-bit",
      "language": "python",
      "name": "python3"
    },
    "language_info": {
      "codemirror_mode": {
        "name": "ipython",
        "version": 3
      },
      "file_extension": ".py",
      "mimetype": "text/x-python",
      "name": "python",
      "nbconvert_exporter": "python",
      "pygments_lexer": "ipython3",
      "version": "3.10.3"
    },
    "vscode": {
      "interpreter": {
        "hash": "1fa163922eb0b3709bbb5d8082b2465c9de796dbaacca80cbaa600e7fff3e4fe"
      }
    },
    "widgets": {
      "application/vnd.jupyter.widget-state+json": {
        "03b5b896f2534bec817b507d1af0953c": {
          "model_module": "@jupyter-widgets/controls",
          "model_module_version": "1.5.0",
          "model_name": "ProgressStyleModel",
          "state": {
            "_model_module": "@jupyter-widgets/controls",
            "_model_module_version": "1.5.0",
            "_model_name": "ProgressStyleModel",
            "_view_count": null,
            "_view_module": "@jupyter-widgets/base",
            "_view_module_version": "1.2.0",
            "_view_name": "StyleView",
            "bar_color": null,
            "description_width": ""
          }
        },
        "320540fc801b40e4a3b6213ae18129a2": {
          "model_module": "@jupyter-widgets/controls",
          "model_module_version": "1.5.0",
          "model_name": "HBoxModel",
          "state": {
            "_dom_classes": [],
            "_model_module": "@jupyter-widgets/controls",
            "_model_module_version": "1.5.0",
            "_model_name": "HBoxModel",
            "_view_count": null,
            "_view_module": "@jupyter-widgets/controls",
            "_view_module_version": "1.5.0",
            "_view_name": "HBoxView",
            "box_style": "",
            "children": [
              "IPY_MODEL_436635d38ca147359a55f3bbc4880a75",
              "IPY_MODEL_b82d92c791084ef4a398bc909d0b3360",
              "IPY_MODEL_b25823ac36a34e1eaead7f79238ed268"
            ],
            "layout": "IPY_MODEL_d25ca8c186204f12904419b9c0648261"
          }
        },
        "436635d38ca147359a55f3bbc4880a75": {
          "model_module": "@jupyter-widgets/controls",
          "model_module_version": "1.5.0",
          "model_name": "HTMLModel",
          "state": {
            "_dom_classes": [],
            "_model_module": "@jupyter-widgets/controls",
            "_model_module_version": "1.5.0",
            "_model_name": "HTMLModel",
            "_view_count": null,
            "_view_module": "@jupyter-widgets/controls",
            "_view_module_version": "1.5.0",
            "_view_name": "HTMLView",
            "description": "",
            "description_tooltip": null,
            "layout": "IPY_MODEL_da1b146519b240d39b77cf82de29ec18",
            "placeholder": "​",
            "style": "IPY_MODEL_7644dd375d39477b961fb48c5d9f66b9",
            "value": "100%"
          }
        },
        "7644dd375d39477b961fb48c5d9f66b9": {
          "model_module": "@jupyter-widgets/controls",
          "model_module_version": "1.5.0",
          "model_name": "DescriptionStyleModel",
          "state": {
            "_model_module": "@jupyter-widgets/controls",
            "_model_module_version": "1.5.0",
            "_model_name": "DescriptionStyleModel",
            "_view_count": null,
            "_view_module": "@jupyter-widgets/base",
            "_view_module_version": "1.2.0",
            "_view_name": "StyleView",
            "description_width": ""
          }
        },
        "b25823ac36a34e1eaead7f79238ed268": {
          "model_module": "@jupyter-widgets/controls",
          "model_module_version": "1.5.0",
          "model_name": "HTMLModel",
          "state": {
            "_dom_classes": [],
            "_model_module": "@jupyter-widgets/controls",
            "_model_module_version": "1.5.0",
            "_model_name": "HTMLModel",
            "_view_count": null,
            "_view_module": "@jupyter-widgets/controls",
            "_view_module_version": "1.5.0",
            "_view_name": "HTMLView",
            "description": "",
            "description_tooltip": null,
            "layout": "IPY_MODEL_fb4fbf961de7492b88e1b40f111b8314",
            "placeholder": "​",
            "style": "IPY_MODEL_c75db7fcd49a4e98a030b6df1b24a57d",
            "value": " 128/128 [02:57&lt;00:00,  1.36s/it]"
          }
        },
        "b82d92c791084ef4a398bc909d0b3360": {
          "model_module": "@jupyter-widgets/controls",
          "model_module_version": "1.5.0",
          "model_name": "FloatProgressModel",
          "state": {
            "_dom_classes": [],
            "_model_module": "@jupyter-widgets/controls",
            "_model_module_version": "1.5.0",
            "_model_name": "FloatProgressModel",
            "_view_count": null,
            "_view_module": "@jupyter-widgets/controls",
            "_view_module_version": "1.5.0",
            "_view_name": "ProgressView",
            "bar_style": "success",
            "description": "",
            "description_tooltip": null,
            "layout": "IPY_MODEL_dbe8a01c15d7417cab795a9ab369c62a",
            "max": 128,
            "min": 0,
            "orientation": "horizontal",
            "style": "IPY_MODEL_03b5b896f2534bec817b507d1af0953c",
            "value": 128
          }
        },
        "c75db7fcd49a4e98a030b6df1b24a57d": {
          "model_module": "@jupyter-widgets/controls",
          "model_module_version": "1.5.0",
          "model_name": "DescriptionStyleModel",
          "state": {
            "_model_module": "@jupyter-widgets/controls",
            "_model_module_version": "1.5.0",
            "_model_name": "DescriptionStyleModel",
            "_view_count": null,
            "_view_module": "@jupyter-widgets/base",
            "_view_module_version": "1.2.0",
            "_view_name": "StyleView",
            "description_width": ""
          }
        },
        "d25ca8c186204f12904419b9c0648261": {
          "model_module": "@jupyter-widgets/base",
          "model_module_version": "1.2.0",
          "model_name": "LayoutModel",
          "state": {
            "_model_module": "@jupyter-widgets/base",
            "_model_module_version": "1.2.0",
            "_model_name": "LayoutModel",
            "_view_count": null,
            "_view_module": "@jupyter-widgets/base",
            "_view_module_version": "1.2.0",
            "_view_name": "LayoutView",
            "align_content": null,
            "align_items": null,
            "align_self": null,
            "border": null,
            "bottom": null,
            "display": null,
            "flex": null,
            "flex_flow": null,
            "grid_area": null,
            "grid_auto_columns": null,
            "grid_auto_flow": null,
            "grid_auto_rows": null,
            "grid_column": null,
            "grid_gap": null,
            "grid_row": null,
            "grid_template_areas": null,
            "grid_template_columns": null,
            "grid_template_rows": null,
            "height": null,
            "justify_content": null,
            "justify_items": null,
            "left": null,
            "margin": null,
            "max_height": null,
            "max_width": null,
            "min_height": null,
            "min_width": null,
            "object_fit": null,
            "object_position": null,
            "order": null,
            "overflow": null,
            "overflow_x": null,
            "overflow_y": null,
            "padding": null,
            "right": null,
            "top": null,
            "visibility": null,
            "width": null
          }
        },
        "da1b146519b240d39b77cf82de29ec18": {
          "model_module": "@jupyter-widgets/base",
          "model_module_version": "1.2.0",
          "model_name": "LayoutModel",
          "state": {
            "_model_module": "@jupyter-widgets/base",
            "_model_module_version": "1.2.0",
            "_model_name": "LayoutModel",
            "_view_count": null,
            "_view_module": "@jupyter-widgets/base",
            "_view_module_version": "1.2.0",
            "_view_name": "LayoutView",
            "align_content": null,
            "align_items": null,
            "align_self": null,
            "border": null,
            "bottom": null,
            "display": null,
            "flex": null,
            "flex_flow": null,
            "grid_area": null,
            "grid_auto_columns": null,
            "grid_auto_flow": null,
            "grid_auto_rows": null,
            "grid_column": null,
            "grid_gap": null,
            "grid_row": null,
            "grid_template_areas": null,
            "grid_template_columns": null,
            "grid_template_rows": null,
            "height": null,
            "justify_content": null,
            "justify_items": null,
            "left": null,
            "margin": null,
            "max_height": null,
            "max_width": null,
            "min_height": null,
            "min_width": null,
            "object_fit": null,
            "object_position": null,
            "order": null,
            "overflow": null,
            "overflow_x": null,
            "overflow_y": null,
            "padding": null,
            "right": null,
            "top": null,
            "visibility": null,
            "width": null
          }
        },
        "dbe8a01c15d7417cab795a9ab369c62a": {
          "model_module": "@jupyter-widgets/base",
          "model_module_version": "1.2.0",
          "model_name": "LayoutModel",
          "state": {
            "_model_module": "@jupyter-widgets/base",
            "_model_module_version": "1.2.0",
            "_model_name": "LayoutModel",
            "_view_count": null,
            "_view_module": "@jupyter-widgets/base",
            "_view_module_version": "1.2.0",
            "_view_name": "LayoutView",
            "align_content": null,
            "align_items": null,
            "align_self": null,
            "border": null,
            "bottom": null,
            "display": null,
            "flex": null,
            "flex_flow": null,
            "grid_area": null,
            "grid_auto_columns": null,
            "grid_auto_flow": null,
            "grid_auto_rows": null,
            "grid_column": null,
            "grid_gap": null,
            "grid_row": null,
            "grid_template_areas": null,
            "grid_template_columns": null,
            "grid_template_rows": null,
            "height": null,
            "justify_content": null,
            "justify_items": null,
            "left": null,
            "margin": null,
            "max_height": null,
            "max_width": null,
            "min_height": null,
            "min_width": null,
            "object_fit": null,
            "object_position": null,
            "order": null,
            "overflow": null,
            "overflow_x": null,
            "overflow_y": null,
            "padding": null,
            "right": null,
            "top": null,
            "visibility": null,
            "width": null
          }
        },
        "fb4fbf961de7492b88e1b40f111b8314": {
          "model_module": "@jupyter-widgets/base",
          "model_module_version": "1.2.0",
          "model_name": "LayoutModel",
          "state": {
            "_model_module": "@jupyter-widgets/base",
            "_model_module_version": "1.2.0",
            "_model_name": "LayoutModel",
            "_view_count": null,
            "_view_module": "@jupyter-widgets/base",
            "_view_module_version": "1.2.0",
            "_view_name": "LayoutView",
            "align_content": null,
            "align_items": null,
            "align_self": null,
            "border": null,
            "bottom": null,
            "display": null,
            "flex": null,
            "flex_flow": null,
            "grid_area": null,
            "grid_auto_columns": null,
            "grid_auto_flow": null,
            "grid_auto_rows": null,
            "grid_column": null,
            "grid_gap": null,
            "grid_row": null,
            "grid_template_areas": null,
            "grid_template_columns": null,
            "grid_template_rows": null,
            "height": null,
            "justify_content": null,
            "justify_items": null,
            "left": null,
            "margin": null,
            "max_height": null,
            "max_width": null,
            "min_height": null,
            "min_width": null,
            "object_fit": null,
            "object_position": null,
            "order": null,
            "overflow": null,
            "overflow_x": null,
            "overflow_y": null,
            "padding": null,
            "right": null,
            "top": null,
            "visibility": null,
            "width": null
          }
        }
      }
    }
  },
  "nbformat": 4,
  "nbformat_minor": 0
}
